{
 "cells": [
  {
   "cell_type": "code",
   "execution_count": 1,
   "metadata": {},
   "outputs": [
    {
     "name": "stdout",
     "output_type": "stream",
     "text": [
      "The top three places with the most courts are Squirrel Hill, South Highland Park, and Hazelwood!\n"
     ]
    },
    {
     "data": {
      "text/plain": [
       "Squirrel Hill South      26\n",
       "Highland Park            20\n",
       "Hazelwood                10\n",
       "Beltzhoover               9\n",
       "Brookline                 9\n",
       "                         ..\n",
       "Marshall-Shadeland        1\n",
       "Central Lawrenceville     1\n",
       "Hays                      1\n",
       "Bon Air                   1\n",
       "Larimer                   1\n",
       "Name: neighborhood, Length: 63, dtype: int64"
      ]
     },
     "execution_count": 1,
     "metadata": {},
     "output_type": "execute_result"
    },
    {
     "data": {
      "image/png": "[encoded data removed]",
      "text/plain": [
       "<Figure size 432x288 with 1 Axes>"
      ]
     },
     "metadata": {
      "needs_background": "light"
     },
     "output_type": "display_data"
    }
   ],
   "source": [
    "#import the data\n",
    "import pandas as pd\n",
    "%matplotlib inline\n",
    "data = pd.read_csv(\"courts-and-rinks.csv\")\n",
    "pd.set_option('display.max_rows', 10)\n",
    "\n",
    "#make a graph showing the top 10 places with the most courts\n",
    "graph = data['neighborhood'].value_counts()[:10]\n",
    "graph.plot.barh()\n",
    "\n",
    "#give a contextualizing statement\n",
    "print('The top three places with the most courts are Squirrel Hill, South Highland Park, and Hazelwood!')\n",
    "\n",
    "#print out the counts of the places wotht he most courts\n",
    "data['neighborhood'].value_counts()"
   ]
  },
  {
   "cell_type": "code",
   "execution_count": null,
   "metadata": {},
   "outputs": [],
   "source": [
    "# Joe's"
   ]
  }
 ],
 "metadata": {
  "kernelspec": {
   "display_name": "Python 3",
   "language": "python",
   "name": "python3"
  },
  "language_info": {
   "codemirror_mode": {
    "name": "ipython",
    "version": 3
   },
   "file_extension": ".py",
   "mimetype": "text/x-python",
   "name": "python",
   "nbconvert_exporter": "python",
   "pygments_lexer": "ipython3",
   "version": "3.8.3"
  }
 },
 "nbformat": 4,
 "nbformat_minor": 4
}
