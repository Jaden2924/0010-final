{
 "cells": [
  {
   "cell_type": "code",
   "execution_count": 2,
   "metadata": {},
   "outputs": [],
   "source": [
    "import pandas as pd\n",
    "%matplotlib inline"
   ]
  },
  {
   "cell_type": "code",
   "execution_count": 38,
   "metadata": {},
   "outputs": [
    {
     "name": "stdout",
     "output_type": "stream",
     "text": [
      "0     538000.0\n",
      "1     166320.0\n",
      "3     335000.0\n",
      "7          NaN\n",
      "8     560242.0\n",
      "9     171075.0\n",
      "10    205800.0\n",
      "11    195000.0\n",
      "12     18000.0\n",
      "14    417657.0\n",
      "15    107000.0\n",
      "16    205800.0\n",
      "17    224100.0\n",
      "18    356000.0\n",
      "19    205800.0\n",
      "20    187600.0\n",
      "21    278000.0\n",
      "22    271000.0\n",
      "24    215451.0\n",
      "25    156840.0\n",
      "Name: capacity, dtype: float64\n"
     ]
    },
    {
     "data": {
      "text/plain": [
       "'Highland Park'"
      ]
     },
     "execution_count": 38,
     "metadata": {},
     "output_type": "execute_result"
    },
    {
     "data": {
      "image/png": "[encoded data removed]",
      "text/plain": [
       "<Figure size 432x288 with 1 Axes>"
      ]
     },
     "metadata": {
      "needs_background": "light"
     },
     "output_type": "display_data"
    }
   ],
   "source": [
    "##gets the data into a dataset\n",
    "##also puts the data into a dataset of only pools, no splash parks\n",
    "poolData = pd.read_csv('PghPools.csv')\n",
    "query_mask = poolData['type'] == \"Pool\"\n",
    "only_pools = poolData[query_mask]\n",
    "\n",
    "##plots the capacity of the pools\n",
    "poolD = only_pools['capacity']\n",
    "poolD.plot.barh()\n",
    "\n",
    "##prints out the list of capacity of the pools\n",
    "##prints out the name of the neighborhood with the highest capacity as seen in the bar graph\n",
    "print(only_pools.loc[:, 'capacity'])\n",
    "only_pools.loc[8, 'neighborhood']"
   ]
  },
  {
   "cell_type": "code",
   "execution_count": null,
   "metadata": {},
   "outputs": [],
   "source": []
  }
 ],
 "metadata": {
  "kernelspec": {
   "display_name": "Python 3",
   "language": "python",
   "name": "python3"
  },
  "language_info": {
   "codemirror_mode": {
    "name": "ipython",
    "version": 3
   },
   "file_extension": ".py",
   "mimetype": "text/x-python",
   "name": "python",
   "nbconvert_exporter": "python",
   "pygments_lexer": "ipython3",
   "version": "3.8.3"
  }
 },
 "nbformat": 4,
 "nbformat_minor": 4
}
